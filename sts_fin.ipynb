{
 "cells": [
  {
   "cell_type": "code",
   "execution_count": 48,
   "metadata": {},
   "outputs": [
    {
     "name": "stdout",
     "output_type": "stream",
     "text": [
      "for IRONCLAD: \n",
      "where n =  4020\n",
      "average :  58.36 mins\n",
      "54.68 62.04\n"
     ]
    }
   ],
   "source": [
    "import json \n",
    "import numpy as np\n",
    "import scipy.stats as st\n",
    "f=open('november.json')\n",
    "data=json.load(f)\n",
    "\n",
    "i = len(data) \n",
    "x = 1\n",
    "y = 0\n",
    "z = 0\n",
    "k = 0\n",
    "q= []\n",
    "\n",
    "while x < i: \n",
    "    if(data[x]['event']['victory']):  #runs classified as events; only searching for wins\n",
    "        \n",
    "        l = (data[x]['event']['character_chosen'])\n",
    "        l = str(l)\n",
    "        if(l == \"IRONCLAD\"):           #choose char \n",
    "                                         \n",
    "           # print(data[x]['event']['character_chosen']) #validate chosen char \n",
    "            p = data[x]['event']['playtime']            \n",
    "            p = int(p)/60;                              #convert\n",
    "            #print(\"%.2f %s\" % (p, \"mins\"))\n",
    "            q.append(p) \n",
    "            #print(\"\\n\")\n",
    "            y = y + int(p)                              #store\n",
    "            z = z + 1                                   #size \n",
    "    x= x + 1\n",
    "\n",
    "print(\"for IRONCLAD: \")\n",
    "print(\"%s %d\"%(\"where n = \", z))\n",
    "\n",
    "print(\"%s %.2f %s\"%(\"average : \", np.mean(q),\"mins\"))\n",
    "#sd = np.std(q,ddof=1)\n",
    "#print(sd) \n",
    "print(\"%.2f %.2f\"%(st.t.interval(confidence=0.95, df = len(q)-1,loc =np.mean(q)\n",
    ",scale=st.sem(q))))\n",
    "f.close()\n",
    "\n",
    "        \n",
    "\n"
   ]
  },
  {
   "cell_type": "code",
   "execution_count": 49,
   "metadata": {},
   "outputs": [
    {
     "name": "stdout",
     "output_type": "stream",
     "text": [
      "for THE_SILENT: \n",
      "where n =  3094\n",
      "average :  66.84 mins\n",
      "64.75 68.93\n"
     ]
    }
   ],
   "source": [
    "import json \n",
    "import numpy as np\n",
    "import scipy.stats as st\n",
    "f=open('november.json')\n",
    "data=json.load(f)\n",
    "\n",
    "i = len(data) \n",
    "x = 1\n",
    "y = 0\n",
    "z = 0\n",
    "k = 0\n",
    "q= []\n",
    "\n",
    "while x < i: \n",
    "    if(data[x]['event']['victory']):  #runs classified as events; only searching for wins\n",
    "        \n",
    "        l = (data[x]['event']['character_chosen'])\n",
    "        l = str(l)\n",
    "                                     #choose char \n",
    "        if(l == \"THE_SILENT\"):    \n",
    "            p = data[x]['event']['playtime']            \n",
    "            p = int(p)/60;                              #convert\n",
    "            q.append(p) \n",
    "            y = y + int(p)                              #store\n",
    "            z = z + 1                                   #n\n",
    "    x= x + 1\n",
    "print(\"for THE_SILENT: \")\n",
    "print(\"%s %d\"%(\"where n = \", z))\n",
    "\n",
    "print(\"%s %.2f %s\"%(\"average : \", np.mean(q),\"mins\"))\n",
    "\n",
    "print(\"%.2f %.2f\"%(st.t.interval(confidence=0.95, df = len(q)-1,loc =np.mean(q)\n",
    ",scale=st.sem(q))))\n",
    "f.close()\n",
    "\n",
    "        \n",
    "\n"
   ]
  },
  {
   "cell_type": "code",
   "execution_count": 50,
   "metadata": {},
   "outputs": [
    {
     "name": "stdout",
     "output_type": "stream",
     "text": [
      "for DEFECT: \n",
      "where n =  2532\n",
      "average :  65.72 mins\n",
      "63.33 68.11\n"
     ]
    }
   ],
   "source": [
    "import json \n",
    "import numpy as np\n",
    "import scipy.stats as st\n",
    "f=open('november.json')\n",
    "data=json.load(f)\n",
    "\n",
    "i = len(data) \n",
    "x = 1\n",
    "y = 0\n",
    "z = 0\n",
    "k = 0\n",
    "q= []\n",
    "\n",
    "while x < i: \n",
    "    if(data[x]['event']['victory']):  #runs classified as events; only searching for wins\n",
    "        \n",
    "        l = (data[x]['event']['character_chosen'])\n",
    "        l = str(l)\n",
    "        \n",
    "        \n",
    "        if(l == \"DEFECT\"):                                    \n",
    "           # print(data[x]['event']['character_chosen']) #validate chosen char \n",
    "            p = data[x]['event']['playtime']            \n",
    "            p = int(p)/60;                              #convert\n",
    "            q.append(p)\n",
    "            y = y + int(p)                              #store\n",
    "            z = z + 1                                   #size \n",
    "    x= x + 1\n",
    "print(\"for DEFECT: \")\n",
    "print(\"%s %d\"%(\"where n = \", z))\n",
    "\n",
    "print(\"%s %.2f %s\"%(\"average : \", np.mean(q),\"mins\"))\n",
    "print(\"%.2f %.2f\"%(st.t.interval(confidence=0.95, df = len(q)-1,loc =np.mean(q)\n",
    ",scale=st.sem(q))))\n",
    "f.close()\n",
    "####AVG +- ta/2 * s / sqrt(n) \n",
    "        \n",
    "\n"
   ]
  }
 ],
 "metadata": {
  "kernelspec": {
   "display_name": "Python 3.11.0 64-bit",
   "language": "python",
   "name": "python3"
  },
  "language_info": {
   "codemirror_mode": {
    "name": "ipython",
    "version": 3
   },
   "file_extension": ".py",
   "mimetype": "text/x-python",
   "name": "python",
   "nbconvert_exporter": "python",
   "pygments_lexer": "ipython3",
   "version": "3.11.0"
  },
  "orig_nbformat": 4,
  "vscode": {
   "interpreter": {
    "hash": "c261aea317cc0286b3b3261fbba9abdec21eaa57589985bb7a274bf54d6cc0a7"
   }
  }
 },
 "nbformat": 4,
 "nbformat_minor": 2
}
